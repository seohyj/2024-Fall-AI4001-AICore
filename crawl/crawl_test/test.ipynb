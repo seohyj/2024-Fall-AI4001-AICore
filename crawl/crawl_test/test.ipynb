{
 "cells": [
  {
   "cell_type": "code",
   "execution_count": null,
   "metadata": {},
   "outputs": [],
   "source": [
    "from selenium import webdriver\n",
    "from selenium.webdriver.support.ui import WebDriverWait\n",
    "from selenium.webdriver.support import expected_conditions as EC\n",
    "from selenium.webdriver.common.by import By\n",
    "from selenium.common.exceptions import TimeoutException\n",
    "from bs4 import BeautifulSoup\n",
    "import pandas as pd\n",
    "import time\n",
    "import os\n",
    "from datetime import datetime\n",
    "\n",
    "class IkeaSofaScraper:\n",
    "    def __init__(self):\n",
    "        # 파일명 정의 - 날짜에 따라 파일명이 자동으로 기록됨\n",
    "        date_str = datetime.now().strftime(\"%Y%m%d\")\n",
    "        self.ft_name = f'./ikea_sofa_crawl_{date_str}.txt'\n",
    "        self.fc_name = f'./ikea_sofa_crawl_{date_str}.csv'\n",
    "        self.fx_name = f'./ikea_sofa_crawl_{date_str}.xlsx'\n"