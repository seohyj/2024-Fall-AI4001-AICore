{
 "cells": [
  {
   "cell_type": "code",
   "execution_count": 1,
   "metadata": {},
   "outputs": [
    {
     "ename": "ImportError",
     "evalue": "dlopen(/opt/anaconda3/envs/sw_and_ai/lib/python3.11/site-packages/cv2.cpython-311-darwin.so, 0x0002): Library not loaded: @rpath/liblapack.3.dylib\n  Referenced from: <55371AF9-6715-3771-A213-E48722ABA229> /opt/anaconda3/envs/sw_and_ai/lib/libopencv_core.4.7.0.dylib\n  Reason: tried: '/opt/anaconda3/envs/sw_and_ai/lib/liblapack.3.dylib' (no such file), '/opt/anaconda3/envs/sw_and_ai/lib/liblapack.3.dylib' (no such file), '/opt/anaconda3/envs/sw_and_ai/lib/python3.11/site-packages/../../liblapack.3.dylib' (no such file), '/opt/anaconda3/envs/sw_and_ai/lib/python3.11/site-packages/../../liblapack.3.dylib' (no such file), '/opt/anaconda3/envs/sw_and_ai/bin/../lib/liblapack.3.dylib' (no such file), '/opt/anaconda3/envs/sw_and_ai/bin/../lib/liblapack.3.dylib' (no such file), '/usr/local/lib/liblapack.3.dylib' (no such file), '/usr/lib/liblapack.3.dylib' (no such file, not in dyld cache)",
     "output_type": "error",
     "traceback": [
      "\u001b[0;31m---------------------------------------------------------------------------\u001b[0m",
      "\u001b[0;31mImportError\u001b[0m                               Traceback (most recent call last)",
      "Cell \u001b[0;32mIn[1], line 1\u001b[0m\n\u001b[0;32m----> 1\u001b[0m \u001b[38;5;28;01mimport\u001b[39;00m \u001b[38;5;21;01mcv2\u001b[39;00m\n\u001b[1;32m      2\u001b[0m \u001b[38;5;28;01mimport\u001b[39;00m \u001b[38;5;21;01mos\u001b[39;00m\n\u001b[1;32m      4\u001b[0m \u001b[38;5;28;01mdef\u001b[39;00m \u001b[38;5;21mcapture_frames\u001b[39m(video_path, output_dir, interval\u001b[38;5;241m=\u001b[39m\u001b[38;5;241m1\u001b[39m):\n\u001b[1;32m      5\u001b[0m     \u001b[38;5;66;03m# 비디오 파일 열기\u001b[39;00m\n",
      "\u001b[0;31mImportError\u001b[0m: dlopen(/opt/anaconda3/envs/sw_and_ai/lib/python3.11/site-packages/cv2.cpython-311-darwin.so, 0x0002): Library not loaded: @rpath/liblapack.3.dylib\n  Referenced from: <55371AF9-6715-3771-A213-E48722ABA229> /opt/anaconda3/envs/sw_and_ai/lib/libopencv_core.4.7.0.dylib\n  Reason: tried: '/opt/anaconda3/envs/sw_and_ai/lib/liblapack.3.dylib' (no such file), '/opt/anaconda3/envs/sw_and_ai/lib/liblapack.3.dylib' (no such file), '/opt/anaconda3/envs/sw_and_ai/lib/python3.11/site-packages/../../liblapack.3.dylib' (no such file), '/opt/anaconda3/envs/sw_and_ai/lib/python3.11/site-packages/../../liblapack.3.dylib' (no such file), '/opt/anaconda3/envs/sw_and_ai/bin/../lib/liblapack.3.dylib' (no such file), '/opt/anaconda3/envs/sw_and_ai/bin/../lib/liblapack.3.dylib' (no such file), '/usr/local/lib/liblapack.3.dylib' (no such file), '/usr/lib/liblapack.3.dylib' (no such file, not in dyld cache)"
     ]
    }
   ],
   "source": [
    "import cv2\n",
    "import os\n",
    "\n",
    "def capture_frames(video_path, output_dir, interval=1):\n",
    "    # 비디오 파일 열기\n",
    "    cap = cv2.VideoCapture(video_path)\n",
    "    \n",
    "    # 저장할 디렉토리 생성\n",
    "    if not os.path.exists(output_dir):\n",
    "        os.makedirs(output_dir)\n",
    "    \n",
    "    # 비디오의 FPS와 총 프레임 수 가져오기\n",
    "    fps = int(cap.get(cv2.CAP_PROP_FPS))\n",
    "    total_frames = int(cap.get(cv2.CAP_PROP_FRAME_COUNT))\n",
    "    \n",
    "    # 1초 간격으로 프레임을 캡처\n",
    "    frame_count = 0\n",
    "    while cap.isOpened():\n",
    "        ret, frame = cap.read()\n",
    "        if not ret:\n",
    "            break\n",
    "            \n",
    "        # 1초 단위 프레임 캡처\n",
    "        if frame_count % (fps * interval) == 0:\n",
    "            # 파일명 생성 및 저장\n",
    "            frame_name = f\"{output_dir}/frame_{frame_count // fps}.jpg\"\n",
    "            cv2.imwrite(frame_name, frame)\n",
    "        \n",
    "        frame_count += 1\n",
    "    \n",
    "    cap.release()\n",
    "    print(f\"Images saved to {output_dir}\")\n",
    "\n",
    "# 사용 예제\n",
    "video_path = \"./1.mp4\"  # 분석할 비디오 파일 경로\n",
    "output_dir = \"captured_frames\"  # 캡처한 이미지 저장 디렉토리\n",
    "capture_frames(video_path, output_dir)\n"
   ]
  }
 ],
 "metadata": {
  "kernelspec": {
   "display_name": "sw_and_ai",
   "language": "python",
   "name": "python3"
  },
  "language_info": {
   "codemirror_mode": {
    "name": "ipython",
    "version": 3
   },
   "file_extension": ".py",
   "mimetype": "text/x-python",
   "name": "python",
   "nbconvert_exporter": "python",
   "pygments_lexer": "ipython3",
   "version": "3.11.9"
  }
 },
 "nbformat": 4,
 "nbformat_minor": 2
}
